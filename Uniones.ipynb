{
  "nbformat": 4,
  "nbformat_minor": 0,
  "metadata": {
    "colab": {
      "provenance": [],
      "authorship_tag": "ABX9TyP/tOGF8WadvAB3Gp8Idzhh",
      "include_colab_link": true
    },
    "kernelspec": {
      "name": "python3",
      "display_name": "Python 3"
    },
    "language_info": {
      "name": "python"
    }
  },
  "cells": [
    {
      "cell_type": "markdown",
      "metadata": {
        "id": "view-in-github",
        "colab_type": "text"
      },
      "source": [
        "<a href=\"https://colab.research.google.com/github/VictorMM7/Optativa-Profesional-Data-Science/blob/main/Uniones.ipynb\" target=\"_parent\"><img src=\"https://colab.research.google.com/assets/colab-badge.svg\" alt=\"Open In Colab\"/></a>"
      ]
    },
    {
      "cell_type": "markdown",
      "source": [
        "**TIPOS DE UNIONES (JOINS) EN PYTHON**"
      ],
      "metadata": {
        "id": "fCRpU4YDxrk_"
      }
    },
    {
      "cell_type": "code",
      "execution_count": null,
      "metadata": {
        "id": "eQVbyzRixoK6"
      },
      "outputs": [],
      "source": [
        "import pandas as pd"
      ]
    },
    {
      "cell_type": "markdown",
      "source": [
        "**CREAR DOS DATAFRAME**"
      ],
      "metadata": {
        "id": "Wj9Q83JgyEEw"
      }
    },
    {
      "cell_type": "code",
      "source": [
        "df1 = pd.DataFrame({\n",
        "    'ID': [1, 2, 3, 4],\n",
        "    'Nombre': ['Juan', 'María', 'Carlos', 'Ana'],\n",
        "    'Departamento': ['Ventas', 'IT', 'Marketing', 'RH']\n",
        "})\n",
        "\n",
        "df2 = pd.DataFrame({\n",
        "    'ID': [3, 4, 5, 6],\n",
        "    'Salario': [50000, 60000, 55000, 65000]\n",
        "})\n",
        "print(\"DataFrame1:\")\n",
        "print(df1)\n",
        "print(\"\\nDataFrame2:\")\n",
        "print(df2)"
      ],
      "metadata": {
        "colab": {
          "base_uri": "https://localhost:8080/"
        },
        "id": "50ETpSiuyIEo",
        "outputId": "756ba52d-506a-4e42-a5cd-94e40e90b335"
      },
      "execution_count": null,
      "outputs": [
        {
          "output_type": "stream",
          "name": "stdout",
          "text": [
            "DataFrame1:\n",
            "   ID  Nombre Departamento\n",
            "0   1    Juan       Ventas\n",
            "1   2   María           IT\n",
            "2   3  Carlos    Marketing\n",
            "3   4     Ana           RH\n",
            "\n",
            "DataFrame2:\n",
            "   ID  Salario\n",
            "0   3    50000\n",
            "1   4    60000\n",
            "2   5    55000\n",
            "3   6    65000\n"
          ]
        }
      ]
    },
    {
      "cell_type": "markdown",
      "source": [
        "**FUSION INNER**"
      ],
      "metadata": {
        "id": "LIzHmdEfzRfG"
      }
    },
    {
      "cell_type": "code",
      "source": [
        "inner_merge = pd.merge(df1, df2, on='ID', how='inner')\n",
        "print(\"\\nFusion Inner:\")\n",
        "print(inner_merge)"
      ],
      "metadata": {
        "colab": {
          "base_uri": "https://localhost:8080/"
        },
        "id": "vbuWnVX8zWCC",
        "outputId": "ed4d4bb2-28a3-4109-f97b-ab136131f6c5"
      },
      "execution_count": null,
      "outputs": [
        {
          "output_type": "stream",
          "name": "stdout",
          "text": [
            "\n",
            "Fusion Inner:\n",
            "   ID  Nombre Departamento  Salario\n",
            "0   3  Carlos    Marketing    50000\n",
            "1   4     Ana           RH    60000\n"
          ]
        }
      ]
    },
    {
      "cell_type": "markdown",
      "source": [
        "**FUSION OUTER**"
      ],
      "metadata": {
        "id": "hQhnt5Ux0bB7"
      }
    },
    {
      "cell_type": "code",
      "source": [
        "outer_merge = pd.merge(df1, df2, on='ID', how='outer')\n",
        "print(\"\\nFusion Outer:\")\n",
        "print(outer_merge)"
      ],
      "metadata": {
        "colab": {
          "base_uri": "https://localhost:8080/"
        },
        "id": "-l8LhdEQ0d0i",
        "outputId": "8a703dca-7e56-4893-b066-3f373fd8544a"
      },
      "execution_count": null,
      "outputs": [
        {
          "output_type": "stream",
          "name": "stdout",
          "text": [
            "\n",
            "Fusion Outer:\n",
            "   ID  Nombre Departamento  Salario\n",
            "0   1    Juan       Ventas      NaN\n",
            "1   2   María           IT      NaN\n",
            "2   3  Carlos    Marketing  50000.0\n",
            "3   4     Ana           RH  60000.0\n",
            "4   5     NaN          NaN  55000.0\n",
            "5   6     NaN          NaN  65000.0\n"
          ]
        }
      ]
    },
    {
      "cell_type": "markdown",
      "source": [
        "**FUSION LEFT**"
      ],
      "metadata": {
        "id": "ITtX689J01LS"
      }
    },
    {
      "cell_type": "code",
      "source": [
        "left_merge = pd.merge(df1, df2, on='ID', how='left')\n",
        "print(\"\\nFusion Left:\")\n",
        "print(left_merge)"
      ],
      "metadata": {
        "colab": {
          "base_uri": "https://localhost:8080/"
        },
        "id": "S9P8j7My08pi",
        "outputId": "25ebaf26-5ceb-40f0-c2ec-ecc98810a3a6"
      },
      "execution_count": null,
      "outputs": [
        {
          "output_type": "stream",
          "name": "stdout",
          "text": [
            "\n",
            "Fusion Left:\n",
            "   ID  Nombre Departamento  Salario\n",
            "0   1    Juan       Ventas      NaN\n",
            "1   2   María           IT      NaN\n",
            "2   3  Carlos    Marketing  50000.0\n",
            "3   4     Ana           RH  60000.0\n"
          ]
        }
      ]
    },
    {
      "cell_type": "markdown",
      "source": [
        "**FUSION RIGHT**"
      ],
      "metadata": {
        "id": "cKIHev1m1TiA"
      }
    },
    {
      "cell_type": "code",
      "source": [
        "right_merge = pd.merge(df1, df2, on='ID', how='right')\n",
        "print(\"\\nFusion Right:\")\n",
        "print(right_merge)"
      ],
      "metadata": {
        "colab": {
          "base_uri": "https://localhost:8080/"
        },
        "id": "EVciJoYW1X2d",
        "outputId": "33bcbb3d-1586-420f-a67a-638e1d4411d7"
      },
      "execution_count": null,
      "outputs": [
        {
          "output_type": "stream",
          "name": "stdout",
          "text": [
            "\n",
            "Fusion Right:\n",
            "   ID  Nombre Departamento  Salario\n",
            "0   3  Carlos    Marketing    50000\n",
            "1   4     Ana           RH    60000\n",
            "2   5     NaN          NaN    55000\n",
            "3   6     NaN          NaN    65000\n"
          ]
        }
      ]
    },
    {
      "cell_type": "markdown",
      "source": [
        "**CONCATENACION**"
      ],
      "metadata": {
        "id": "rXvysVL11lVR"
      }
    },
    {
      "cell_type": "code",
      "source": [
        "df3 = pd.DataFrame({\n",
        "    'ID': [7,8],\n",
        "    'Nombre': ['Sofia', 'Pedro'],\n",
        "    'Departamento': ['Finanzas', 'Ventas']\n",
        "})\n",
        "\n",
        "concatenated_df = pd.concat([df1, df3])\n",
        "print(\"\\nConcatenacion de DataFrame:\")\n",
        "print(concatenated_df)"
      ],
      "metadata": {
        "colab": {
          "base_uri": "https://localhost:8080/"
        },
        "id": "oLmuubTv1nZA",
        "outputId": "095a88eb-5264-4393-9b74-d3a5f3963e3a"
      },
      "execution_count": null,
      "outputs": [
        {
          "output_type": "stream",
          "name": "stdout",
          "text": [
            "\n",
            "Concatenacion de DataFrame:\n",
            "   ID  Nombre Departamento\n",
            "0   1    Juan       Ventas\n",
            "1   2   María           IT\n",
            "2   3  Carlos    Marketing\n",
            "3   4     Ana           RH\n",
            "0   7   Sofia     Finanzas\n",
            "1   8   Pedro       Ventas\n"
          ]
        }
      ]
    }
  ]
}